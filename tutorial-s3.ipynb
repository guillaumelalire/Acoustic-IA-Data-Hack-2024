{
 "cells": [
  {
   "cell_type": "markdown",
   "metadata": {},
   "source": [
    "## Tutoriel : interagir avec le système de stockage S3 du SSP Cloud (MinIO)"
   ]
  },
  {
   "cell_type": "code",
   "execution_count": 2,
   "metadata": {},
   "outputs": [],
   "source": [
    "import os\n",
    "\n",
    "import pandas as pd\n",
    "import s3fs\n",
    "import zipfile"
   ]
  },
  {
   "cell_type": "markdown",
   "metadata": {},
   "source": [
    "### Récupérer les données d'un challenge"
   ]
  },
  {
   "cell_type": "code",
   "execution_count": 3,
   "metadata": {},
   "outputs": [],
   "source": [
    "# Create filesystem object\n",
    "S3_ENDPOINT_URL = \"https://\" + os.environ[\"AWS_S3_ENDPOINT\"]\n",
    "fs = s3fs.S3FileSystem(client_kwargs={'endpoint_url': S3_ENDPOINT_URL})"
   ]
  },
  {
   "cell_type": "code",
   "execution_count": 4,
   "metadata": {},
   "outputs": [
    {
     "data": {
      "text/plain": [
       "['gvimont/diffusion/hackathon-minarm-2024/AIVSAI',\n",
       " 'gvimont/diffusion/hackathon-minarm-2024/Acoustique',\n",
       " 'gvimont/diffusion/hackathon-minarm-2024/Similarité']"
      ]
     },
     "execution_count": 4,
     "metadata": {},
     "output_type": "execute_result"
    }
   ],
   "source": [
    "# Lister les challenges\n",
    "fs.ls(\"gvimont/diffusion/hackathon-minarm-2024\")"
   ]
  },
  {
   "cell_type": "code",
   "execution_count": 5,
   "metadata": {},
   "outputs": [
    {
     "data": {
      "text/plain": [
       "['gvimont/diffusion/hackathon-minarm-2024/Acoustique/LivingRoom_preprocessed_hack.zip']"
      ]
     },
     "execution_count": 5,
     "metadata": {},
     "output_type": "execute_result"
    }
   ],
   "source": [
    "# Lister les fichiers d'un challenge\n",
    "fs.ls(\"gvimont/diffusion/hackathon-minarm-2024/Acoustique\")"
   ]
  },
  {
   "cell_type": "code",
   "execution_count": 7,
   "metadata": {},
   "outputs": [
    {
     "data": {
      "text/plain": [
       "[None]"
      ]
     },
     "execution_count": 7,
     "metadata": {},
     "output_type": "execute_result"
    }
   ],
   "source": [
    "# Télécharger les données dans le service\n",
    "PATH_IN = 'gvimont/diffusion/hackathon-minarm-2024/Acoustique/LivingRoom_preprocessed_hack.zip'\n",
    "fs.download(PATH_IN, 'data/LivingRoom_preprocessed_hack.zip')"
   ]
  },
  {
   "cell_type": "code",
   "execution_count": 8,
   "metadata": {},
   "outputs": [],
   "source": [
    "# Décompresser les données\n",
    "with zipfile.ZipFile(\"data/LivingRoom_preprocessed_hack.zip\",\"r\") as zip_file:\n",
    "    zip_file.extractall(\"data/\")"
   ]
  },
  {
   "cell_type": "code",
   "execution_count": 10,
   "metadata": {},
   "outputs": [
    {
     "name": "stderr",
     "output_type": "stream",
     "text": [
      "/opt/mamba/lib/python3.11/site-packages/keras/src/layers/core/input_layer.py:25: UserWarning: Argument `input_shape` is deprecated. Use `shape` instead.\n",
      "  warnings.warn(\n",
      "2024-04-23 16:35:26.129989: I tensorflow/core/common_runtime/gpu/gpu_device.cc:1928] Created device /job:localhost/replica:0/task:0/device:GPU:0 with 13290 MB memory:  -> device: 0, name: NVIDIA A2, pci bus id: 0000:ca:00.0, compute capability: 8.6\n",
      "2024-04-23 16:35:36.815989: W external/local_tsl/tsl/framework/bfc_allocator.cc:487] Allocator (GPU_0_bfc) ran out of memory trying to allocate 81.45GiB (rounded to 87451238400)requested by op StatelessRandomUniformV2\n",
      "If the cause is memory fragmentation maybe the environment variable 'TF_GPU_ALLOCATOR=cuda_malloc_async' will improve the situation. \n",
      "Current allocation summary follows.\n",
      "Current allocation summary follows.\n",
      "2024-04-23 16:35:36.816072: I external/local_tsl/tsl/framework/bfc_allocator.cc:1044] BFCAllocator dump for GPU_0_bfc\n",
      "2024-04-23 16:35:36.816104: I external/local_tsl/tsl/framework/bfc_allocator.cc:1051] Bin (256): \tTotal Chunks: 20, Chunks in use: 20. 5.0KiB allocated for chunks. 5.0KiB in use in bin. 604B client-requested in use in bin.\n",
      "2024-04-23 16:35:36.816121: I external/local_tsl/tsl/framework/bfc_allocator.cc:1051] Bin (512): \tTotal Chunks: 2, Chunks in use: 2. 1.0KiB allocated for chunks. 1.0KiB in use in bin. 1.0KiB client-requested in use in bin.\n",
      "2024-04-23 16:35:36.816136: I external/local_tsl/tsl/framework/bfc_allocator.cc:1051] Bin (1024): \tTotal Chunks: 4, Chunks in use: 4. 4.8KiB allocated for chunks. 4.8KiB in use in bin. 4.0KiB client-requested in use in bin.\n",
      "2024-04-23 16:35:36.816151: I external/local_tsl/tsl/framework/bfc_allocator.cc:1051] Bin (2048): \tTotal Chunks: 1, Chunks in use: 1. 2.2KiB allocated for chunks. 2.2KiB in use in bin. 2.2KiB client-requested in use in bin.\n",
      "2024-04-23 16:35:36.816167: I external/local_tsl/tsl/framework/bfc_allocator.cc:1051] Bin (4096): \tTotal Chunks: 0, Chunks in use: 0. 0B allocated for chunks. 0B in use in bin. 0B client-requested in use in bin.\n",
      "2024-04-23 16:35:36.816181: I external/local_tsl/tsl/framework/bfc_allocator.cc:1051] Bin (8192): \tTotal Chunks: 0, Chunks in use: 0. 0B allocated for chunks. 0B in use in bin. 0B client-requested in use in bin.\n",
      "2024-04-23 16:35:36.816195: I external/local_tsl/tsl/framework/bfc_allocator.cc:1051] Bin (16384): \tTotal Chunks: 0, Chunks in use: 0. 0B allocated for chunks. 0B in use in bin. 0B client-requested in use in bin.\n",
      "2024-04-23 16:35:36.816208: I external/local_tsl/tsl/framework/bfc_allocator.cc:1051] Bin (32768): \tTotal Chunks: 0, Chunks in use: 0. 0B allocated for chunks. 0B in use in bin. 0B client-requested in use in bin.\n",
      "2024-04-23 16:35:36.816221: I external/local_tsl/tsl/framework/bfc_allocator.cc:1051] Bin (65536): \tTotal Chunks: 0, Chunks in use: 0. 0B allocated for chunks. 0B in use in bin. 0B client-requested in use in bin.\n",
      "2024-04-23 16:35:36.816239: I external/local_tsl/tsl/framework/bfc_allocator.cc:1051] Bin (131072): \tTotal Chunks: 1, Chunks in use: 1. 144.0KiB allocated for chunks. 144.0KiB in use in bin. 144.0KiB client-requested in use in bin.\n",
      "2024-04-23 16:35:36.816257: I external/local_tsl/tsl/framework/bfc_allocator.cc:1051] Bin (262144): \tTotal Chunks: 3, Chunks in use: 1. 860.5KiB allocated for chunks. 288.0KiB in use in bin. 288.0KiB client-requested in use in bin.\n",
      "2024-04-23 16:35:36.816273: I external/local_tsl/tsl/framework/bfc_allocator.cc:1051] Bin (524288): \tTotal Chunks: 1, Chunks in use: 1. 576.0KiB allocated for chunks. 576.0KiB in use in bin. 576.0KiB client-requested in use in bin.\n",
      "2024-04-23 16:35:36.816289: I external/local_tsl/tsl/framework/bfc_allocator.cc:1051] Bin (1048576): \tTotal Chunks: 3, Chunks in use: 1. 3.38MiB allocated for chunks. 1.12MiB in use in bin. 1.12MiB client-requested in use in bin.\n",
      "2024-04-23 16:35:36.816304: I external/local_tsl/tsl/framework/bfc_allocator.cc:1051] Bin (2097152): \tTotal Chunks: 2, Chunks in use: 2. 4.50MiB allocated for chunks. 4.50MiB in use in bin. 4.50MiB client-requested in use in bin.\n",
      "2024-04-23 16:35:36.816320: I external/local_tsl/tsl/framework/bfc_allocator.cc:1051] Bin (4194304): \tTotal Chunks: 1, Chunks in use: 0. 4.50MiB allocated for chunks. 0B in use in bin. 0B client-requested in use in bin.\n",
      "2024-04-23 16:35:36.816333: I external/local_tsl/tsl/framework/bfc_allocator.cc:1051] Bin (8388608): \tTotal Chunks: 0, Chunks in use: 0. 0B allocated for chunks. 0B in use in bin. 0B client-requested in use in bin.\n",
      "2024-04-23 16:35:36.816347: I external/local_tsl/tsl/framework/bfc_allocator.cc:1051] Bin (16777216): \tTotal Chunks: 0, Chunks in use: 0. 0B allocated for chunks. 0B in use in bin. 0B client-requested in use in bin.\n",
      "2024-04-23 16:35:36.816364: I external/local_tsl/tsl/framework/bfc_allocator.cc:1051] Bin (33554432): \tTotal Chunks: 0, Chunks in use: 0. 0B allocated for chunks. 0B in use in bin. 0B client-requested in use in bin.\n",
      "2024-04-23 16:35:36.816377: I external/local_tsl/tsl/framework/bfc_allocator.cc:1051] Bin (67108864): \tTotal Chunks: 0, Chunks in use: 0. 0B allocated for chunks. 0B in use in bin. 0B client-requested in use in bin.\n",
      "2024-04-23 16:35:36.816390: I external/local_tsl/tsl/framework/bfc_allocator.cc:1051] Bin (134217728): \tTotal Chunks: 0, Chunks in use: 0. 0B allocated for chunks. 0B in use in bin. 0B client-requested in use in bin.\n",
      "2024-04-23 16:35:36.816405: I external/local_tsl/tsl/framework/bfc_allocator.cc:1051] Bin (268435456): \tTotal Chunks: 1, Chunks in use: 0. 12.96GiB allocated for chunks. 0B in use in bin. 0B client-requested in use in bin.\n",
      "2024-04-23 16:35:36.816425: I external/local_tsl/tsl/framework/bfc_allocator.cc:1067] Bin for 81.45GiB was 256.00MiB, Chunk State: \n",
      "2024-04-23 16:35:36.816448: I external/local_tsl/tsl/framework/bfc_allocator.cc:1073]   Size: 12.96GiB | Requested Size: 0B | in_use: 0 | bin_num: 20, prev:   Size: 2.25MiB | Requested Size: 2.25MiB | in_use: 1 | bin_num: -1\n",
      "2024-04-23 16:35:36.816460: I external/local_tsl/tsl/framework/bfc_allocator.cc:1080] Next region of size 13936361472\n",
      "2024-04-23 16:35:36.816480: I external/local_tsl/tsl/framework/bfc_allocator.cc:1100] InUse at 7f40bc000000 of size 256 next 1\n",
      "2024-04-23 16:35:36.816492: I external/local_tsl/tsl/framework/bfc_allocator.cc:1100] InUse at 7f40bc000100 of size 1280 next 2\n",
      "2024-04-23 16:35:36.816503: I external/local_tsl/tsl/framework/bfc_allocator.cc:1100] InUse at 7f40bc000600 of size 256 next 3\n",
      "2024-04-23 16:35:36.816513: I external/local_tsl/tsl/framework/bfc_allocator.cc:1100] InUse at 7f40bc000700 of size 256 next 4\n",
      "2024-04-23 16:35:36.816523: I external/local_tsl/tsl/framework/bfc_allocator.cc:1100] InUse at 7f40bc000800 of size 256 next 6\n",
      "2024-04-23 16:35:36.816533: I external/local_tsl/tsl/framework/bfc_allocator.cc:1100] InUse at 7f40bc000900 of size 256 next 7\n",
      "2024-04-23 16:35:36.816543: I external/local_tsl/tsl/framework/bfc_allocator.cc:1100] InUse at 7f40bc000a00 of size 256 next 5\n",
      "2024-04-23 16:35:36.816553: I external/local_tsl/tsl/framework/bfc_allocator.cc:1100] InUse at 7f40bc000b00 of size 256 next 8\n",
      "2024-04-23 16:35:36.816564: I external/local_tsl/tsl/framework/bfc_allocator.cc:1100] InUse at 7f40bc000c00 of size 256 next 13\n",
      "2024-04-23 16:35:36.816575: I external/local_tsl/tsl/framework/bfc_allocator.cc:1100] InUse at 7f40bc000d00 of size 256 next 11\n",
      "2024-04-23 16:35:36.816586: I external/local_tsl/tsl/framework/bfc_allocator.cc:1100] InUse at 7f40bc000e00 of size 256 next 12\n",
      "2024-04-23 16:35:36.816598: I external/local_tsl/tsl/framework/bfc_allocator.cc:1100] InUse at 7f40bc000f00 of size 512 next 16\n",
      "2024-04-23 16:35:36.816610: I external/local_tsl/tsl/framework/bfc_allocator.cc:1100] InUse at 7f40bc001100 of size 256 next 17\n",
      "2024-04-23 16:35:36.816625: I external/local_tsl/tsl/framework/bfc_allocator.cc:1100] InUse at 7f40bc001200 of size 256 next 20\n",
      "2024-04-23 16:35:36.816635: I external/local_tsl/tsl/framework/bfc_allocator.cc:1100] InUse at 7f40bc001300 of size 512 next 23\n",
      "2024-04-23 16:35:36.816646: I external/local_tsl/tsl/framework/bfc_allocator.cc:1100] InUse at 7f40bc001500 of size 256 next 21\n",
      "2024-04-23 16:35:36.816656: I external/local_tsl/tsl/framework/bfc_allocator.cc:1100] InUse at 7f40bc001600 of size 256 next 22\n",
      "2024-04-23 16:35:36.816667: I external/local_tsl/tsl/framework/bfc_allocator.cc:1100] InUse at 7f40bc001700 of size 1536 next 9\n",
      "2024-04-23 16:35:36.816678: I external/local_tsl/tsl/framework/bfc_allocator.cc:1100] InUse at 7f40bc001d00 of size 2304 next 10\n",
      "2024-04-23 16:35:36.816689: I external/local_tsl/tsl/framework/bfc_allocator.cc:1100] InUse at 7f40bc002600 of size 256 next 26\n",
      "2024-04-23 16:35:36.816699: I external/local_tsl/tsl/framework/bfc_allocator.cc:1100] InUse at 7f40bc002700 of size 256 next 27\n",
      "2024-04-23 16:35:36.816711: I external/local_tsl/tsl/framework/bfc_allocator.cc:1100] InUse at 7f40bc002800 of size 1024 next 32\n",
      "2024-04-23 16:35:36.816722: I external/local_tsl/tsl/framework/bfc_allocator.cc:1100] InUse at 7f40bc002c00 of size 1024 next 35\n",
      "2024-04-23 16:35:36.816732: I external/local_tsl/tsl/framework/bfc_allocator.cc:1100] InUse at 7f40bc003000 of size 256 next 30\n",
      "2024-04-23 16:35:36.816742: I external/local_tsl/tsl/framework/bfc_allocator.cc:1100] InUse at 7f40bc003100 of size 256 next 31\n",
      "2024-04-23 16:35:36.816752: I external/local_tsl/tsl/framework/bfc_allocator.cc:1100] InUse at 7f40bc003200 of size 256 next 37\n",
      "2024-04-23 16:35:36.816762: I external/local_tsl/tsl/framework/bfc_allocator.cc:1100] InUse at 7f40bc003300 of size 256 next 38\n",
      "2024-04-23 16:35:36.816773: I external/local_tsl/tsl/framework/bfc_allocator.cc:1100] Free  at 7f40bc003400 of size 291328 next 15\n",
      "2024-04-23 16:35:36.816784: I external/local_tsl/tsl/framework/bfc_allocator.cc:1100] InUse at 7f40bc04a600 of size 147456 next 14\n",
      "2024-04-23 16:35:36.816794: I external/local_tsl/tsl/framework/bfc_allocator.cc:1100] Free  at 7f40bc06e600 of size 294912 next 19\n",
      "2024-04-23 16:35:36.816805: I external/local_tsl/tsl/framework/bfc_allocator.cc:1100] InUse at 7f40bc0b6600 of size 294912 next 18\n",
      "2024-04-23 16:35:36.816816: I external/local_tsl/tsl/framework/bfc_allocator.cc:1100] Free  at 7f40bc0fe600 of size 1179648 next 25\n",
      "2024-04-23 16:35:36.816827: I external/local_tsl/tsl/framework/bfc_allocator.cc:1100] InUse at 7f40bc21e600 of size 589824 next 24\n",
      "2024-04-23 16:35:36.816838: I external/local_tsl/tsl/framework/bfc_allocator.cc:1100] Free  at 7f40bc2ae600 of size 1179648 next 29\n",
      "2024-04-23 16:35:36.816851: I external/local_tsl/tsl/framework/bfc_allocator.cc:1100] InUse at 7f40bc3ce600 of size 1179648 next 28\n",
      "2024-04-23 16:35:36.816862: I external/local_tsl/tsl/framework/bfc_allocator.cc:1100] Free  at 7f40bc4ee600 of size 4718592 next 34\n",
      "2024-04-23 16:35:36.816873: I external/local_tsl/tsl/framework/bfc_allocator.cc:1100] InUse at 7f40bc96e600 of size 2359296 next 33\n",
      "2024-04-23 16:35:36.816884: I external/local_tsl/tsl/framework/bfc_allocator.cc:1100] InUse at 7f40bcbae600 of size 2359296 next 36\n",
      "2024-04-23 16:35:36.816895: I external/local_tsl/tsl/framework/bfc_allocator.cc:1100] Free  at 7f40bcdee600 of size 13921753600 next 18446744073709551615\n",
      "2024-04-23 16:35:36.816905: I external/local_tsl/tsl/framework/bfc_allocator.cc:1105]      Summary of in-use Chunks by size: \n",
      "2024-04-23 16:35:36.816921: I external/local_tsl/tsl/framework/bfc_allocator.cc:1108] 20 Chunks of size 256 totalling 5.0KiB\n",
      "2024-04-23 16:35:36.816933: I external/local_tsl/tsl/framework/bfc_allocator.cc:1108] 2 Chunks of size 512 totalling 1.0KiB\n",
      "2024-04-23 16:35:36.816947: I external/local_tsl/tsl/framework/bfc_allocator.cc:1108] 2 Chunks of size 1024 totalling 2.0KiB\n",
      "2024-04-23 16:35:36.816959: I external/local_tsl/tsl/framework/bfc_allocator.cc:1108] 1 Chunks of size 1280 totalling 1.2KiB\n",
      "2024-04-23 16:35:36.816972: I external/local_tsl/tsl/framework/bfc_allocator.cc:1108] 1 Chunks of size 1536 totalling 1.5KiB\n",
      "2024-04-23 16:35:36.816983: I external/local_tsl/tsl/framework/bfc_allocator.cc:1108] 1 Chunks of size 2304 totalling 2.2KiB\n",
      "2024-04-23 16:35:36.816996: I external/local_tsl/tsl/framework/bfc_allocator.cc:1108] 1 Chunks of size 147456 totalling 144.0KiB\n",
      "2024-04-23 16:35:36.817009: I external/local_tsl/tsl/framework/bfc_allocator.cc:1108] 1 Chunks of size 294912 totalling 288.0KiB\n",
      "2024-04-23 16:35:36.817021: I external/local_tsl/tsl/framework/bfc_allocator.cc:1108] 1 Chunks of size 589824 totalling 576.0KiB\n",
      "2024-04-23 16:35:36.817033: I external/local_tsl/tsl/framework/bfc_allocator.cc:1108] 1 Chunks of size 1179648 totalling 1.12MiB\n",
      "2024-04-23 16:35:36.817045: I external/local_tsl/tsl/framework/bfc_allocator.cc:1108] 2 Chunks of size 2359296 totalling 4.50MiB\n",
      "2024-04-23 16:35:36.817059: I external/local_tsl/tsl/framework/bfc_allocator.cc:1112] Sum Total of in-use chunks: 6.62MiB\n",
      "2024-04-23 16:35:36.817073: I external/local_tsl/tsl/framework/bfc_allocator.cc:1114] Total bytes in pool: 13936361472 memory_limit_: 13936361472 available bytes: 0 curr_region_allocation_bytes_: 27872722944\n",
      "2024-04-23 16:35:36.817096: I external/local_tsl/tsl/framework/bfc_allocator.cc:1119] Stats: \n",
      "Limit:                     13936361472\n",
      "InUse:                         6943744\n",
      "MaxInUse:                     11660800\n",
      "NumAllocs:                          75\n",
      "MaxAllocSize:                  2359296\n",
      "Reserved:                            0\n",
      "PeakReserved:                        0\n",
      "LargestFreeBlock:                    0\n",
      "\n",
      "2024-04-23 16:35:36.817115: W external/local_tsl/tsl/framework/bfc_allocator.cc:499] *___________________________________________________________________________________________________\n",
      "2024-04-23 16:35:36.817170: W tensorflow/core/framework/op_kernel.cc:1839] OP_REQUIRES failed at stateless_random_ops_v2.cc:64 : RESOURCE_EXHAUSTED: OOM when allocating tensor with shape[21350400,1024] and type float on /job:localhost/replica:0/task:0/device:GPU:0 by allocator GPU_0_bfc\n",
      "2024-04-23 16:35:36.817204: W tensorflow/core/framework/local_rendezvous.cc:404] Local rendezvous is aborting with status: RESOURCE_EXHAUSTED: OOM when allocating tensor with shape[21350400,1024] and type float on /job:localhost/replica:0/task:0/device:GPU:0 by allocator GPU_0_bfc\n"
     ]
    },
    {
     "ename": "ResourceExhaustedError",
     "evalue": "{{function_node __wrapped__StatelessRandomUniformV2_device_/job:localhost/replica:0/task:0/device:GPU:0}} OOM when allocating tensor with shape[21350400,1024] and type float on /job:localhost/replica:0/task:0/device:GPU:0 by allocator GPU_0_bfc [Op:StatelessRandomUniformV2] name: ",
     "output_type": "error",
     "traceback": [
      "\u001b[0;31m---------------------------------------------------------------------------\u001b[0m",
      "\u001b[0;31mResourceExhaustedError\u001b[0m                    Traceback (most recent call last)",
      "\u001b[1;32m/home/onyxia/work/hackathon-minarm-2024/tutorial-s3.ipynb Cell 9\u001b[0m line \u001b[0;36m1\n\u001b[1;32m     <a href='vscode-notebook-cell://user-djlulu-391671-0.user.lab.sspcloud.fr/home/onyxia/work/hackathon-minarm-2024/tutorial-s3.ipynb#X22sdnNjb2RlLXJlbW90ZQ%3D%3D?line=11'>12</a>\u001b[0m data_rirs \u001b[39m=\u001b[39m data_rirs\u001b[39m.\u001b[39mreshape(\u001b[39m-\u001b[39m\u001b[39m1\u001b[39m, \u001b[39m4\u001b[39m, data_rirs\u001b[39m.\u001b[39mshape[\u001b[39m2\u001b[39m], \u001b[39m1\u001b[39m)  \u001b[39m# Adding the channel dimension\u001b[39;00m\n\u001b[1;32m     <a href='vscode-notebook-cell://user-djlulu-391671-0.user.lab.sspcloud.fr/home/onyxia/work/hackathon-minarm-2024/tutorial-s3.ipynb#X22sdnNjb2RlLXJlbW90ZQ%3D%3D?line=13'>14</a>\u001b[0m \u001b[39m# Define the VGG-like model for multi-channel RIR data\u001b[39;00m\n\u001b[0;32m---> <a href='vscode-notebook-cell://user-djlulu-391671-0.user.lab.sspcloud.fr/home/onyxia/work/hackathon-minarm-2024/tutorial-s3.ipynb#X22sdnNjb2RlLXJlbW90ZQ%3D%3D?line=14'>15</a>\u001b[0m model \u001b[39m=\u001b[39m Sequential([\n\u001b[1;32m     <a href='vscode-notebook-cell://user-djlulu-391671-0.user.lab.sspcloud.fr/home/onyxia/work/hackathon-minarm-2024/tutorial-s3.ipynb#X22sdnNjb2RlLXJlbW90ZQ%3D%3D?line=15'>16</a>\u001b[0m     InputLayer(input_shape\u001b[39m=\u001b[39;49m(\u001b[39m4\u001b[39;49m, data_rirs\u001b[39m.\u001b[39;49mshape[\u001b[39m2\u001b[39;49m], \u001b[39m1\u001b[39;49m)),  \u001b[39m# Adjusted based on data shape\u001b[39;49;00m\n\u001b[1;32m     <a href='vscode-notebook-cell://user-djlulu-391671-0.user.lab.sspcloud.fr/home/onyxia/work/hackathon-minarm-2024/tutorial-s3.ipynb#X22sdnNjb2RlLXJlbW90ZQ%3D%3D?line=16'>17</a>\u001b[0m     Conv2D(\u001b[39m64\u001b[39;49m, (\u001b[39m3\u001b[39;49m, \u001b[39m3\u001b[39;49m), activation\u001b[39m=\u001b[39;49m\u001b[39m'\u001b[39;49m\u001b[39mrelu\u001b[39;49m\u001b[39m'\u001b[39;49m, padding\u001b[39m=\u001b[39;49m\u001b[39m'\u001b[39;49m\u001b[39msame\u001b[39;49m\u001b[39m'\u001b[39;49m),\n\u001b[1;32m     <a href='vscode-notebook-cell://user-djlulu-391671-0.user.lab.sspcloud.fr/home/onyxia/work/hackathon-minarm-2024/tutorial-s3.ipynb#X22sdnNjb2RlLXJlbW90ZQ%3D%3D?line=17'>18</a>\u001b[0m     Conv2D(\u001b[39m64\u001b[39;49m, (\u001b[39m3\u001b[39;49m, \u001b[39m3\u001b[39;49m), activation\u001b[39m=\u001b[39;49m\u001b[39m'\u001b[39;49m\u001b[39mrelu\u001b[39;49m\u001b[39m'\u001b[39;49m, padding\u001b[39m=\u001b[39;49m\u001b[39m'\u001b[39;49m\u001b[39msame\u001b[39;49m\u001b[39m'\u001b[39;49m),\n\u001b[1;32m     <a href='vscode-notebook-cell://user-djlulu-391671-0.user.lab.sspcloud.fr/home/onyxia/work/hackathon-minarm-2024/tutorial-s3.ipynb#X22sdnNjb2RlLXJlbW90ZQ%3D%3D?line=18'>19</a>\u001b[0m     MaxPooling2D((\u001b[39m2\u001b[39;49m, \u001b[39m2\u001b[39;49m), strides\u001b[39m=\u001b[39;49m(\u001b[39m1\u001b[39;49m, \u001b[39m2\u001b[39;49m)),  \u001b[39m# Reduced stride on the frequency axis\u001b[39;49;00m\n\u001b[1;32m     <a href='vscode-notebook-cell://user-djlulu-391671-0.user.lab.sspcloud.fr/home/onyxia/work/hackathon-minarm-2024/tutorial-s3.ipynb#X22sdnNjb2RlLXJlbW90ZQ%3D%3D?line=19'>20</a>\u001b[0m     Conv2D(\u001b[39m128\u001b[39;49m, (\u001b[39m3\u001b[39;49m, \u001b[39m3\u001b[39;49m), activation\u001b[39m=\u001b[39;49m\u001b[39m'\u001b[39;49m\u001b[39mrelu\u001b[39;49m\u001b[39m'\u001b[39;49m, padding\u001b[39m=\u001b[39;49m\u001b[39m'\u001b[39;49m\u001b[39msame\u001b[39;49m\u001b[39m'\u001b[39;49m),\n\u001b[1;32m     <a href='vscode-notebook-cell://user-djlulu-391671-0.user.lab.sspcloud.fr/home/onyxia/work/hackathon-minarm-2024/tutorial-s3.ipynb#X22sdnNjb2RlLXJlbW90ZQ%3D%3D?line=20'>21</a>\u001b[0m     Conv2D(\u001b[39m128\u001b[39;49m, (\u001b[39m3\u001b[39;49m, \u001b[39m3\u001b[39;49m), activation\u001b[39m=\u001b[39;49m\u001b[39m'\u001b[39;49m\u001b[39mrelu\u001b[39;49m\u001b[39m'\u001b[39;49m, padding\u001b[39m=\u001b[39;49m\u001b[39m'\u001b[39;49m\u001b[39msame\u001b[39;49m\u001b[39m'\u001b[39;49m),\n\u001b[1;32m     <a href='vscode-notebook-cell://user-djlulu-391671-0.user.lab.sspcloud.fr/home/onyxia/work/hackathon-minarm-2024/tutorial-s3.ipynb#X22sdnNjb2RlLXJlbW90ZQ%3D%3D?line=21'>22</a>\u001b[0m     MaxPooling2D((\u001b[39m2\u001b[39;49m, \u001b[39m2\u001b[39;49m), strides\u001b[39m=\u001b[39;49m(\u001b[39m1\u001b[39;49m, \u001b[39m2\u001b[39;49m)),  \u001b[39m# Reduced stride on the frequency axis\u001b[39;49;00m\n\u001b[1;32m     <a href='vscode-notebook-cell://user-djlulu-391671-0.user.lab.sspcloud.fr/home/onyxia/work/hackathon-minarm-2024/tutorial-s3.ipynb#X22sdnNjb2RlLXJlbW90ZQ%3D%3D?line=22'>23</a>\u001b[0m     Conv2D(\u001b[39m256\u001b[39;49m, (\u001b[39m3\u001b[39;49m, \u001b[39m3\u001b[39;49m), activation\u001b[39m=\u001b[39;49m\u001b[39m'\u001b[39;49m\u001b[39mrelu\u001b[39;49m\u001b[39m'\u001b[39;49m, padding\u001b[39m=\u001b[39;49m\u001b[39m'\u001b[39;49m\u001b[39msame\u001b[39;49m\u001b[39m'\u001b[39;49m),\n\u001b[1;32m     <a href='vscode-notebook-cell://user-djlulu-391671-0.user.lab.sspcloud.fr/home/onyxia/work/hackathon-minarm-2024/tutorial-s3.ipynb#X22sdnNjb2RlLXJlbW90ZQ%3D%3D?line=23'>24</a>\u001b[0m     Conv2D(\u001b[39m256\u001b[39;49m, (\u001b[39m3\u001b[39;49m, \u001b[39m3\u001b[39;49m), activation\u001b[39m=\u001b[39;49m\u001b[39m'\u001b[39;49m\u001b[39mrelu\u001b[39;49m\u001b[39m'\u001b[39;49m, padding\u001b[39m=\u001b[39;49m\u001b[39m'\u001b[39;49m\u001b[39msame\u001b[39;49m\u001b[39m'\u001b[39;49m),\n\u001b[1;32m     <a href='vscode-notebook-cell://user-djlulu-391671-0.user.lab.sspcloud.fr/home/onyxia/work/hackathon-minarm-2024/tutorial-s3.ipynb#X22sdnNjb2RlLXJlbW90ZQ%3D%3D?line=24'>25</a>\u001b[0m     Conv2D(\u001b[39m256\u001b[39;49m, (\u001b[39m3\u001b[39;49m, \u001b[39m3\u001b[39;49m), activation\u001b[39m=\u001b[39;49m\u001b[39m'\u001b[39;49m\u001b[39mrelu\u001b[39;49m\u001b[39m'\u001b[39;49m, padding\u001b[39m=\u001b[39;49m\u001b[39m'\u001b[39;49m\u001b[39msame\u001b[39;49m\u001b[39m'\u001b[39;49m),\n\u001b[1;32m     <a href='vscode-notebook-cell://user-djlulu-391671-0.user.lab.sspcloud.fr/home/onyxia/work/hackathon-minarm-2024/tutorial-s3.ipynb#X22sdnNjb2RlLXJlbW90ZQ%3D%3D?line=25'>26</a>\u001b[0m     MaxPooling2D((\u001b[39m2\u001b[39;49m, \u001b[39m2\u001b[39;49m), strides\u001b[39m=\u001b[39;49m(\u001b[39m1\u001b[39;49m, \u001b[39m2\u001b[39;49m)),  \u001b[39m# Reduced stride on the frequency axis\u001b[39;49;00m\n\u001b[1;32m     <a href='vscode-notebook-cell://user-djlulu-391671-0.user.lab.sspcloud.fr/home/onyxia/work/hackathon-minarm-2024/tutorial-s3.ipynb#X22sdnNjb2RlLXJlbW90ZQ%3D%3D?line=26'>27</a>\u001b[0m     Flatten(),\n\u001b[1;32m     <a href='vscode-notebook-cell://user-djlulu-391671-0.user.lab.sspcloud.fr/home/onyxia/work/hackathon-minarm-2024/tutorial-s3.ipynb#X22sdnNjb2RlLXJlbW90ZQ%3D%3D?line=27'>28</a>\u001b[0m     Dense(\u001b[39m1024\u001b[39;49m, activation\u001b[39m=\u001b[39;49m\u001b[39m'\u001b[39;49m\u001b[39mrelu\u001b[39;49m\u001b[39m'\u001b[39;49m),\n\u001b[1;32m     <a href='vscode-notebook-cell://user-djlulu-391671-0.user.lab.sspcloud.fr/home/onyxia/work/hackathon-minarm-2024/tutorial-s3.ipynb#X22sdnNjb2RlLXJlbW90ZQ%3D%3D?line=28'>29</a>\u001b[0m     Dense(\u001b[39m1024\u001b[39;49m, activation\u001b[39m=\u001b[39;49m\u001b[39m'\u001b[39;49m\u001b[39mrelu\u001b[39;49m\u001b[39m'\u001b[39;49m),\n\u001b[1;32m     <a href='vscode-notebook-cell://user-djlulu-391671-0.user.lab.sspcloud.fr/home/onyxia/work/hackathon-minarm-2024/tutorial-s3.ipynb#X22sdnNjb2RlLXJlbW90ZQ%3D%3D?line=29'>30</a>\u001b[0m     Dense(\u001b[39m2\u001b[39;49m)  \u001b[39m# Output layer with 2 neurons for x, y coordinates\u001b[39;49;00m\n\u001b[1;32m     <a href='vscode-notebook-cell://user-djlulu-391671-0.user.lab.sspcloud.fr/home/onyxia/work/hackathon-minarm-2024/tutorial-s3.ipynb#X22sdnNjb2RlLXJlbW90ZQ%3D%3D?line=30'>31</a>\u001b[0m ])\n\u001b[1;32m     <a href='vscode-notebook-cell://user-djlulu-391671-0.user.lab.sspcloud.fr/home/onyxia/work/hackathon-minarm-2024/tutorial-s3.ipynb#X22sdnNjb2RlLXJlbW90ZQ%3D%3D?line=32'>33</a>\u001b[0m \u001b[39m# Compile the model\u001b[39;00m\n\u001b[1;32m     <a href='vscode-notebook-cell://user-djlulu-391671-0.user.lab.sspcloud.fr/home/onyxia/work/hackathon-minarm-2024/tutorial-s3.ipynb#X22sdnNjb2RlLXJlbW90ZQ%3D%3D?line=33'>34</a>\u001b[0m model\u001b[39m.\u001b[39mcompile(optimizer\u001b[39m=\u001b[39m\u001b[39m'\u001b[39m\u001b[39madam\u001b[39m\u001b[39m'\u001b[39m, loss\u001b[39m=\u001b[39m\u001b[39m'\u001b[39m\u001b[39mmean_squared_error\u001b[39m\u001b[39m'\u001b[39m)\n",
      "File \u001b[0;32m/opt/mamba/lib/python3.11/site-packages/keras/src/models/sequential.py:74\u001b[0m, in \u001b[0;36mSequential.__init__\u001b[0;34m(self, layers, trainable, name)\u001b[0m\n\u001b[1;32m     72\u001b[0m \u001b[39mfor\u001b[39;00m layer \u001b[39min\u001b[39;00m layers:\n\u001b[1;32m     73\u001b[0m     \u001b[39mself\u001b[39m\u001b[39m.\u001b[39madd(layer, rebuild\u001b[39m=\u001b[39m\u001b[39mFalse\u001b[39;00m)\n\u001b[0;32m---> 74\u001b[0m \u001b[39mself\u001b[39;49m\u001b[39m.\u001b[39;49m_maybe_rebuild()\n",
      "File \u001b[0;32m/opt/mamba/lib/python3.11/site-packages/keras/src/models/sequential.py:139\u001b[0m, in \u001b[0;36mSequential._maybe_rebuild\u001b[0;34m(self)\u001b[0m\n\u001b[1;32m    137\u001b[0m \u001b[39mif\u001b[39;00m \u001b[39misinstance\u001b[39m(\u001b[39mself\u001b[39m\u001b[39m.\u001b[39m_layers[\u001b[39m0\u001b[39m], InputLayer) \u001b[39mand\u001b[39;00m \u001b[39mlen\u001b[39m(\u001b[39mself\u001b[39m\u001b[39m.\u001b[39m_layers) \u001b[39m>\u001b[39m \u001b[39m1\u001b[39m:\n\u001b[1;32m    138\u001b[0m     input_shape \u001b[39m=\u001b[39m \u001b[39mself\u001b[39m\u001b[39m.\u001b[39m_layers[\u001b[39m0\u001b[39m]\u001b[39m.\u001b[39mbatch_shape\n\u001b[0;32m--> 139\u001b[0m     \u001b[39mself\u001b[39;49m\u001b[39m.\u001b[39;49mbuild(input_shape)\n",
      "File \u001b[0;32m/opt/mamba/lib/python3.11/site-packages/keras/src/layers/layer.py:222\u001b[0m, in \u001b[0;36mLayer.__new__.<locals>.build_wrapper\u001b[0;34m(*args, **kwargs)\u001b[0m\n\u001b[1;32m    219\u001b[0m \u001b[39m@wraps\u001b[39m(original_build_method)\n\u001b[1;32m    220\u001b[0m \u001b[39mdef\u001b[39;00m \u001b[39mbuild_wrapper\u001b[39m(\u001b[39m*\u001b[39margs, \u001b[39m*\u001b[39m\u001b[39m*\u001b[39mkwargs):\n\u001b[1;32m    221\u001b[0m     \u001b[39mwith\u001b[39;00m obj\u001b[39m.\u001b[39m_open_name_scope():\n\u001b[0;32m--> 222\u001b[0m         original_build_method(\u001b[39m*\u001b[39;49margs, \u001b[39m*\u001b[39;49m\u001b[39m*\u001b[39;49mkwargs)\n\u001b[1;32m    223\u001b[0m     \u001b[39m# Record build config.\u001b[39;00m\n\u001b[1;32m    224\u001b[0m     signature \u001b[39m=\u001b[39m inspect\u001b[39m.\u001b[39msignature(original_build_method)\n",
      "File \u001b[0;32m/opt/mamba/lib/python3.11/site-packages/keras/src/models/sequential.py:180\u001b[0m, in \u001b[0;36mSequential.build\u001b[0;34m(self, input_shape)\u001b[0m\n\u001b[1;32m    178\u001b[0m \u001b[39mfor\u001b[39;00m layer \u001b[39min\u001b[39;00m \u001b[39mself\u001b[39m\u001b[39m.\u001b[39m_layers[\u001b[39m1\u001b[39m:]:\n\u001b[1;32m    179\u001b[0m     \u001b[39mtry\u001b[39;00m:\n\u001b[0;32m--> 180\u001b[0m         x \u001b[39m=\u001b[39m layer(x)\n\u001b[1;32m    181\u001b[0m     \u001b[39mexcept\u001b[39;00m \u001b[39mNotImplementedError\u001b[39;00m:\n\u001b[1;32m    182\u001b[0m         \u001b[39m# Can happen if shape inference is not implemented.\u001b[39;00m\n\u001b[1;32m    183\u001b[0m         \u001b[39m# TODO: consider reverting inbound nodes on layers processed.\u001b[39;00m\n\u001b[1;32m    184\u001b[0m         \u001b[39mreturn\u001b[39;00m\n",
      "File \u001b[0;32m/opt/mamba/lib/python3.11/site-packages/keras/src/utils/traceback_utils.py:122\u001b[0m, in \u001b[0;36mfilter_traceback.<locals>.error_handler\u001b[0;34m(*args, **kwargs)\u001b[0m\n\u001b[1;32m    119\u001b[0m     filtered_tb \u001b[39m=\u001b[39m _process_traceback_frames(e\u001b[39m.\u001b[39m__traceback__)\n\u001b[1;32m    120\u001b[0m     \u001b[39m# To get the full stack trace, call:\u001b[39;00m\n\u001b[1;32m    121\u001b[0m     \u001b[39m# `keras.config.disable_traceback_filtering()`\u001b[39;00m\n\u001b[0;32m--> 122\u001b[0m     \u001b[39mraise\u001b[39;00m e\u001b[39m.\u001b[39mwith_traceback(filtered_tb) \u001b[39mfrom\u001b[39;00m \u001b[39mNone\u001b[39;00m\n\u001b[1;32m    123\u001b[0m \u001b[39mfinally\u001b[39;00m:\n\u001b[1;32m    124\u001b[0m     \u001b[39mdel\u001b[39;00m filtered_tb\n",
      "File \u001b[0;32m/opt/mamba/lib/python3.11/site-packages/tensorflow/python/framework/ops.py:5983\u001b[0m, in \u001b[0;36mraise_from_not_ok_status\u001b[0;34m(e, name)\u001b[0m\n\u001b[1;32m   5981\u001b[0m \u001b[39mdef\u001b[39;00m \u001b[39mraise_from_not_ok_status\u001b[39m(e, name) \u001b[39m-\u001b[39m\u001b[39m>\u001b[39m NoReturn:\n\u001b[1;32m   5982\u001b[0m   e\u001b[39m.\u001b[39mmessage \u001b[39m+\u001b[39m\u001b[39m=\u001b[39m (\u001b[39m\"\u001b[39m\u001b[39m name: \u001b[39m\u001b[39m\"\u001b[39m \u001b[39m+\u001b[39m \u001b[39mstr\u001b[39m(name \u001b[39mif\u001b[39;00m name \u001b[39mis\u001b[39;00m \u001b[39mnot\u001b[39;00m \u001b[39mNone\u001b[39;00m \u001b[39melse\u001b[39;00m \u001b[39m\"\u001b[39m\u001b[39m\"\u001b[39m))\n\u001b[0;32m-> 5983\u001b[0m   \u001b[39mraise\u001b[39;00m core\u001b[39m.\u001b[39m_status_to_exception(e) \u001b[39mfrom\u001b[39;00m \u001b[39mNone\u001b[39;00m\n",
      "\u001b[0;31mResourceExhaustedError\u001b[0m: {{function_node __wrapped__StatelessRandomUniformV2_device_/job:localhost/replica:0/task:0/device:GPU:0}} OOM when allocating tensor with shape[21350400,1024] and type float on /job:localhost/replica:0/task:0/device:GPU:0 by allocator GPU_0_bfc [Op:StatelessRandomUniformV2] name: "
     ]
    }
   ],
   "source": [
    "import numpy as np\n",
    "from tensorflow.keras.models import Sequential\n",
    "from tensorflow.keras.layers import Conv2D, MaxPooling2D, Flatten, Dense, InputLayer\n",
    "\n",
    "# Load the RIRs data\n",
    "data_rirs = np.load('data/LivingRoom_preprocessed_hack/Human1/deconvoled_trim.npy')\n",
    "\n",
    "# Load the centroid data (positions of humans)\n",
    "data_centroid = np.load('data/LivingRoom_preprocessed_hack/Human1/centroid.npy')\n",
    "\n",
    "# Reshape the RIRs data to fit the model's input requirements\n",
    "data_rirs = data_rirs.reshape(-1, 4, data_rirs.shape[2], 1)  # Adding the channel dimension\n",
    "\n",
    "# Define the VGG-like model for multi-channel RIR data\n",
    "model = Sequential([\n",
    "    InputLayer(input_shape=(4, data_rirs.shape[2], 1)),  # Adjusted based on data shape\n",
    "    Conv2D(64, (3, 3), activation='relu', padding='same'),\n",
    "    Conv2D(64, (3, 3), activation='relu', padding='same'),\n",
    "    MaxPooling2D((2, 2), strides=(1, 2)),  # Reduced stride on the frequency axis\n",
    "    Conv2D(128, (3, 3), activation='relu', padding='same'),\n",
    "    Conv2D(128, (3, 3), activation='relu', padding='same'),\n",
    "    MaxPooling2D((2, 2), strides=(1, 2)),  # Reduced stride on the frequency axis\n",
    "    Conv2D(256, (3, 3), activation='relu', padding='same'),\n",
    "    Conv2D(256, (3, 3), activation='relu', padding='same'),\n",
    "    Conv2D(256, (3, 3), activation='relu', padding='same'),\n",
    "    MaxPooling2D((2, 2), strides=(1, 2)),  # Reduced stride on the frequency axis\n",
    "    Flatten(),\n",
    "    Dense(1024, activation='relu'),\n",
    "    Dense(1024, activation='relu'),\n",
    "    Dense(2)  # Output layer with 2 neurons for x, y coordinates\n",
    "])\n",
    "\n",
    "# Compile the model\n",
    "model.compile(optimizer='adam', loss='mean_squared_error')\n",
    "\n",
    "\n",
    "model.fit(data_rirs, data_centroid, epochs=10, batch_size=32, validation_split=0.2)\n",
    "\n",
    "test_rirs = np.load('path/to/test_rirs.npy').reshape(-1, 4, test_rirs.shape[2], 1)\n",
    "test_centroid = np.load('path/to/test_centroid.npy')\n",
    "\n",
    "loss = model.evaluate(test_rirs, test_centroid)\n",
    "print(\"Test Loss:\", loss)\n",
    "\n",
    "predictions = model.predict(test_rirs)\n",
    "print(\"Predictions:\", predictions)"
   ]
  },
  {
   "cell_type": "code",
   "execution_count": null,
   "metadata": {},
   "outputs": [],
   "source": []
  }
 ],
 "metadata": {
  "kernelspec": {
   "display_name": "base",
   "language": "python",
   "name": "python3"
  },
  "language_info": {
   "codemirror_mode": {
    "name": "ipython",
    "version": 3
   },
   "file_extension": ".py",
   "mimetype": "text/x-python",
   "name": "python",
   "nbconvert_exporter": "python",
   "pygments_lexer": "ipython3",
   "version": "3.11.6"
  }
 },
 "nbformat": 4,
 "nbformat_minor": 2
}
