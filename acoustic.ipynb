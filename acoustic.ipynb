{
 "cells": [
  {
   "cell_type": "code",
   "execution_count": null,
   "metadata": {},
   "outputs": [],
   "source": [
    "import numpy as np\n",
    "import matplotlib.pyplot as plt\n",
    "import pandas as pd"
   ]
  },
  {
   "cell_type": "code",
   "execution_count": null,
   "metadata": {},
   "outputs": [],
   "source": [
    "# Microphone Locations\n",
    "mic_height = 50.3125\n",
    "feet = 12\n",
    "y_tile = 23.5\n",
    "x_tile = 11 +7/8\n",
    "\n",
    "camera_origin_location = np.array([-6*x_tile-5.75, -y_tile, 45+13/16])*25.4\n",
    "\n",
    "mic_1 = np.array([-11*x_tile - 1, -5*y_tile - 6-3/8, mic_height]) * 25.4 \n",
    "mic_4= np.array([-11*x_tile + 1.25 + 1/16, 2.5*y_tile+3.75, mic_height]) * 25.4\n",
    "mic_6 = np.array([5+3/8, 2+1/8, mic_height]) * 25.4\n",
    "mic_9 = np.array([-3, -6*y_tile - 0.5, mic_height]) * 25.4\n",
    "\n",
    "mic_xyzs = np.stack((mic_1,mic_4, mic_6, mic_9),axis=0)"
   ]
  },
  {
   "cell_type": "code",
   "execution_count": null,
   "metadata": {},
   "outputs": [],
   "source": [
    "SPEAKER_BOTTOM_RIGHT_Y = (1200.15 + 1196.975 + 1206.5)/ 3\n",
    "SPEAKER_BOTTOM_RIGHT_X = (88.9 + 107.95 + 101.6) / 3\n",
    "SPEAKER_BOTTOM_LEFT_Y = (1327.15 + 1311.55712764 + 1317.625) / 3\n",
    "SPEAKER_BOTTOM_LEFT_X = - 76.98583188\n",
    "\n",
    "speaker_xyz_bottom_right = np.array([SPEAKER_BOTTOM_RIGHT_X, SPEAKER_BOTTOM_RIGHT_Y, 44.5*25.4])\n",
    "speaker_xyz_bottom_left = np.array([SPEAKER_BOTTOM_LEFT_X, SPEAKER_BOTTOM_LEFT_Y, 44.5*25.4])\n",
    "speaker_xyz_top_right = np.array([SPEAKER_BOTTOM_RIGHT_X, SPEAKER_BOTTOM_RIGHT_Y, (44.5+17)*25.4])\n",
    "speaker_xyz_top_left = np.array([SPEAKER_BOTTOM_LEFT_X, SPEAKER_BOTTOM_LEFT_Y, (44.5+17)*25.4])\n",
    "speaker_xyz = (speaker_xyz_bottom_right+speaker_xyz_bottom_left+speaker_xyz_top_right+speaker_xyz_top_left)/4"
   ]
  },
  {
   "cell_type": "code",
   "execution_count": null,
   "metadata": {},
   "outputs": [],
   "source": [
    "walls = None\n",
    "x_min = - 4000\n",
    "x_max = 500\n",
    "y_min = -4000\n",
    "y_max = 2000"
   ]
  },
  {
   "cell_type": "code",
   "execution_count": null,
   "metadata": {},
   "outputs": [],
   "source": [
    "for idx, mic in enumerate(mic_xyzs):\n",
    "    plt.scatter(mic[0], mic[1], label=f'mic {idx+1}')\n",
    "\n",
    "plt.title(\"Répartition des micros\")\n",
    "plt.xlim([-5500, 1000])\n",
    "plt.ylim([-4500, 2500])\n",
    "plt.legend(loc=\"lower left\", title=\"microphone\")"
   ]
  },
  {
   "cell_type": "code",
   "execution_count": null,
   "metadata": {},
   "outputs": [],
   "source": [
    "rirs_1 = np.load('../hackathon-minarm-2024/data/LivingRoom_preprocessed_hack/Human1/deconvoled_trim.npy')\n",
    "rirs_2 = np.load('../hackathon-minarm-2024/data/LivingRoom_preprocessed_hack/Human2/deconvoled_trim.npy')\n",
    "rirs = np.append(rirs_1, rirs_2, axis=0)"
   ]
  },
  {
   "cell_type": "code",
   "execution_count": null,
   "metadata": {},
   "outputs": [],
   "source": [
    "localisations_1 = np.load('../hackathon-minarm-2024/data/LivingRoom_preprocessed_hack/Human1/centroid.npy')\n",
    "localisations_2 = np.load('../hackathon-minarm-2024/data/LivingRoom_preprocessed_hack/Human2/centroid.npy')\n",
    "localisations = np.append(localisations_1, localisations_2, axis=0)"
   ]
  },
  {
   "cell_type": "code",
   "execution_count": null,
   "metadata": {},
   "outputs": [],
   "source": [
    "print(rirs.shape)\n",
    "print(localisations.shape)\n",
    "N_datapoints, N_mics, N_samples = rirs.shape\n",
    "print(N_samples)"
   ]
  },
  {
   "cell_type": "code",
   "execution_count": null,
   "metadata": {},
   "outputs": [],
   "source": [
    "rms = np.sqrt(np.square(rirs).mean(axis=2))"
   ]
  },
  {
   "cell_type": "code",
   "execution_count": null,
   "metadata": {},
   "outputs": [],
   "source": [
    "print(rms)"
   ]
  },
  {
   "cell_type": "code",
   "execution_count": null,
   "metadata": {},
   "outputs": [],
   "source": [
    "def distance(actual, expected):\n",
    "    diff_x = actual[:, 0] - expected[:, 0]\n",
    "    diff_y = actual[:, 1] - expected[:, 1]\n",
    "    return np.sqrt(np.square(diff_x) + np.square(diff_y))\n",
    "\n",
    "def mean_distance(actual, expected):\n",
    "    return distance(actual, expected).mean()"
   ]
  },
  {
   "cell_type": "code",
   "execution_count": null,
   "metadata": {},
   "outputs": [],
   "source": [
    "from sklearn.model_selection import train_test_split\n",
    "\n",
    "X = pd.DataFrame(rms)\n",
    "y = pd.DataFrame(localisations)\n",
    "\n",
    "X_train, X_test, y_train, y_test = train_test_split(X, y, test_size=0.2, random_state=42)"
   ]
  },
  {
   "cell_type": "code",
   "execution_count": null,
   "metadata": {},
   "outputs": [],
   "source": [
    "from sklearn.neighbors import KNeighborsRegressor\n",
    "\n",
    "knn = KNeighborsRegressor(n_neighbors=2)\n",
    "knn.fit(X_train, y_train)\n",
    "print(knn.score(X_test, y_test))"
   ]
  },
  {
   "cell_type": "code",
   "execution_count": null,
   "metadata": {},
   "outputs": [],
   "source": [
    "from sklearn.linear_model import LinearRegression\n",
    "\n",
    "knn = LinearRegression()\n",
    "knn.fit(X_train, y_train)\n",
    "print(knn.score(X_test, y_test))"
   ]
  }
 ],
 "metadata": {
  "kernelspec": {
   "display_name": "base",
   "language": "python",
   "name": "python3"
  },
  "language_info": {
   "codemirror_mode": {
    "name": "ipython",
    "version": 3
   },
   "file_extension": ".py",
   "mimetype": "text/x-python",
   "name": "python",
   "nbconvert_exporter": "python",
   "pygments_lexer": "ipython3",
   "version": "3.11.6"
  }
 },
 "nbformat": 4,
 "nbformat_minor": 2
}
